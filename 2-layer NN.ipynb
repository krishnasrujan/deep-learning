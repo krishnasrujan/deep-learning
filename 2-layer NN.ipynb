{
 "cells": [
  {
   "cell_type": "code",
   "execution_count": 3,
   "metadata": {},
   "outputs": [],
   "source": [
    "import numpy as np\n",
    "x=np.array([[5,-5,-6,4,6,9,-1,0,7,2]])\n",
    "y=np.array([1,0,0,0,1,1,0,0,1,0])\n",
    "w1=np.random.randn(1,1)*0.01\n",
    "b1=0\n",
    "w2=np.random.randn(1,1)*0.01\n",
    "b2=0\n",
    "alpha=0.3\n",
    "m=x.shape[1]"
   ]
  },
  {
   "cell_type": "code",
   "execution_count": 5,
   "metadata": {},
   "outputs": [
    {
     "name": "stdout",
     "output_type": "stream",
     "text": [
      "[[-3.93666859]]\n",
      "[[0.24366641]]\n",
      "[[-385.42184624]]\n",
      "[[-8.17742332]]\n"
     ]
    },
    {
     "name": "stderr",
     "output_type": "stream",
     "text": [
      "/usr/local/lib/python2.7/dist-packages/ipykernel_launcher.py:3: RuntimeWarning: overflow encountered in exp\n",
      "  This is separate from the ipykernel package so we can avoid doing imports until\n"
     ]
    }
   ],
   "source": [
    "for i in range(500):\n",
    "    z1=np.dot(w1,x)+b1\n",
    "    a1=1/(1+np.exp(-z1))\n",
    "    z2=np.dot(w2,a1)+b2\n",
    "    a2=1/(1+np.exp(-z2))\n",
    "    dz2=a2-y\n",
    "    cost=(-1/m)*np.sum(y*np.log(a2)+(1-y)*np.log(1-a2))\n",
    "    dw2=np.dot(dz2,a1.T)/m\n",
    "    db2=np.sum(dz2,axis=1,keepdims=True)/m\n",
    "    dz1=np.multiply(np.dot(w2.T,dz2),1-np.power(a1,2))\n",
    "    dw1=np.dot(dz1,x.T)/m\n",
    "    db1=np.sum(dz1,axis=1,keepdims=True)/m\n",
    "    w2=w2-alpha*dw2\n",
    "    b2=b2-alpha*db2\n",
    "    w1=w1-alpha*dw1\n",
    "    b1=b1-alpha*db1\n",
    "print(w2)\n",
    "print(b2)\n",
    "print(w1)\n",
    "print(b1)"
   ]
  },
  {
   "cell_type": "code",
   "execution_count": 13,
   "metadata": {},
   "outputs": [
    {
     "name": "stdout",
     "output_type": "stream",
     "text": [
      "0.5597136492671929\n"
     ]
    }
   ],
   "source": [
    "f=1/(1+np.exp(-(0.24)))\n",
    "print(f)\n",
    "#v=1/(1+np.exp())"
   ]
  },
  {
   "cell_type": "code",
   "execution_count": null,
   "metadata": {},
   "outputs": [],
   "source": []
  }
 ],
 "metadata": {
  "kernelspec": {
   "display_name": "Python 3",
   "language": "python",
   "name": "python3"
  },
  "language_info": {
   "codemirror_mode": {
    "name": "ipython",
    "version": 3
   },
   "file_extension": ".py",
   "mimetype": "text/x-python",
   "name": "python",
   "nbconvert_exporter": "python",
   "pygments_lexer": "ipython3",
   "version": "3.6.9"
  }
 },
 "nbformat": 4,
 "nbformat_minor": 2
}
