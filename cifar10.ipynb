{
 "cells": [
  {
   "cell_type": "code",
   "execution_count": 2,
   "metadata": {},
   "outputs": [],
   "source": [
    "import time\n",
    "start=time.time()\n",
    "import pandas as pd\n",
    "import numpy as np\n",
    "import matplotlib.pyplot as plt\n",
    "import tensorflow as tf\n",
    "from tensorflow import keras\n",
    "from tensorflow.keras.layers import Conv2D,Flatten,MaxPooling2D,Activation,Dense,Dropout\n",
    "from tensorflow.keras.models import Sequential\n",
    "from tensorflow.keras.layers import BatchNormalization\n",
    "from tensorflow.keras import regularizers\n",
    "\n",
    "from tensorflow.compat.v1 import ConfigProto\n",
    "from tensorflow.compat.v1 import InteractiveSession\n",
    "\n",
    "config = ConfigProto()\n",
    "config.gpu_options.allow_growth = True\n",
    "session = InteractiveSession(config=config)"
   ]
  },
  {
   "cell_type": "code",
   "execution_count": 3,
   "metadata": {},
   "outputs": [],
   "source": [
    "cifar=keras.datasets.cifar10\n",
    "(train_x,train_y),(test_x,test_y)=cifar.load_data()"
   ]
  },
  {
   "cell_type": "code",
   "execution_count": 4,
   "metadata": {},
   "outputs": [
    {
     "data": {
      "text/plain": [
       "(50000, 32, 32, 3)"
      ]
     },
     "execution_count": 4,
     "metadata": {},
     "output_type": "execute_result"
    }
   ],
   "source": [
    "train_x=train_x/255\n",
    "test_x=test_x/255\n",
    "train_x.shape"
   ]
  },
  {
   "cell_type": "code",
   "execution_count": 5,
   "metadata": {},
   "outputs": [
    {
     "data": {
      "text/plain": [
       "numpy.ndarray"
      ]
     },
     "execution_count": 5,
     "metadata": {},
     "output_type": "execute_result"
    }
   ],
   "source": [
    "type(train_x)"
   ]
  },
  {
   "cell_type": "code",
   "execution_count": 6,
   "metadata": {},
   "outputs": [
    {
     "data": {
      "text/plain": [
       "array([[6],\n",
       "       [9],\n",
       "       [9],\n",
       "       ...,\n",
       "       [9],\n",
       "       [1],\n",
       "       [1]], dtype=uint8)"
      ]
     },
     "execution_count": 6,
     "metadata": {},
     "output_type": "execute_result"
    }
   ],
   "source": [
    "train_y"
   ]
  },
  {
   "cell_type": "code",
   "execution_count": 4,
   "metadata": {},
   "outputs": [
    {
     "data": {
      "text/plain": [
       "<function matplotlib.pyplot.show(*args, **kw)>"
      ]
     },
     "execution_count": 4,
     "metadata": {},
     "output_type": "execute_result"
    },
    {
     "data": {
      "image/png": "[encoded data removed]",
      "text/plain": [
       "<Figure size 432x288 with 1 Axes>"
      ]
     },
     "metadata": {
      "needs_background": "light"
     },
     "output_type": "display_data"
    }
   ],
   "source": [
    "plt.imshow(train_x[0])\n",
    "plt.show"
   ]
  },
  {
   "cell_type": "code",
   "execution_count": 5,
   "metadata": {},
   "outputs": [],
   "source": [
    "model=Sequential()\n",
    "model.add(Conv2D(64,(3,3),input_shape=(32,32,3),activity_regularizer=regularizers.l2(0.001)))\n",
    "model.add(Activation('relu'))\n",
    "model.add(BatchNormalization())\n",
    "model.add(MaxPooling2D(pool_size=(2,2)))\n",
    "\n",
    "model.add(Conv2D(64,(3,3),activity_regularizer=regularizers.l2(0.001)))\n",
    "model.add(Activation('relu'))\n",
    "model.add(BatchNormalization())\n",
    "model.add(MaxPooling2D(pool_size=(2,2)))\n",
    "\n",
    "model.add(Conv2D(64,(3,3),activity_regularizer=regularizers.l2(0.001)))\n",
    "model.add(Activation('relu'))\n",
    "model.add(BatchNormalization())\n",
    "model.add(MaxPooling2D(pool_size=(2,2)))\n",
    "\n",
    "model.add(Flatten(input_shape=(32,32,3)))\n",
    "\n",
    "model.add(Dense(164,activity_regularizer=regularizers.l2(0.001)))\n",
    "model.add(Activation('relu'))\n",
    "model.add(BatchNormalization())\n",
    "\n",
    "model.add(Dense(128,activity_regularizer=regularizers.l2(0.001)))\n",
    "model.add(Activation('relu'))\n",
    "model.add(BatchNormalization())\n",
    "\n",
    "model.add(Dense(256,activity_regularizer=regularizers.l2(0.001)))\n",
    "model.add(Activation('relu'))\n",
    "model.add(BatchNormalization())\n",
    "\n",
    "model.add(Dense(10))\n",
    "model.add(Activation('softmax'))"
   ]
  },
  {
   "cell_type": "code",
   "execution_count": 6,
   "metadata": {},
   "outputs": [],
   "source": [
    "classes=['airplane','automobile','bird','cat','deer','dog','frog','horse','ship','truck']\n"
   ]
  },
  {
   "cell_type": "code",
   "execution_count": 7,
   "metadata": {},
   "outputs": [
    {
     "name": "stdout",
     "output_type": "stream",
     "text": [
      "Train on 50000 samples, validate on 10000 samples\n",
      "Epoch 1/10\n",
      "50000/50000 [==============================] - 95s 2ms/sample - loss: 3.7388 - accuracy: 0.3862 - val_loss: 2.8555 - val_accuracy: 0.1098\n",
      "Epoch 2/10\n",
      "50000/50000 [==============================] - 39s 784us/sample - loss: 2.3628 - accuracy: 0.4886 - val_loss: 2.0110 - val_accuracy: 0.4338\n",
      "Epoch 3/10\n",
      "50000/50000 [==============================] - 40s 792us/sample - loss: 1.9206 - accuracy: 0.5508 - val_loss: 1.8134 - val_accuracy: 0.5328\n",
      "Epoch 4/10\n",
      "50000/50000 [==============================] - 39s 788us/sample - loss: 1.6324 - accuracy: 0.6015 - val_loss: 1.8053 - val_accuracy: 0.5324\n",
      "Epoch 5/10\n",
      "50000/50000 [==============================] - 39s 786us/sample - loss: 1.4044 - accuracy: 0.6464 - val_loss: 1.9231 - val_accuracy: 0.4460\n",
      "Epoch 6/10\n",
      "50000/50000 [==============================] - 39s 787us/sample - loss: 1.2691 - accuracy: 0.6729 - val_loss: 1.7854 - val_accuracy: 0.5223\n",
      "Epoch 7/10\n",
      "50000/50000 [==============================] - 40s 802us/sample - loss: 1.1385 - accuracy: 0.7015 - val_loss: 1.7904 - val_accuracy: 0.5272\n",
      "Epoch 8/10\n",
      "50000/50000 [==============================] - 40s 792us/sample - loss: 1.0383 - accuracy: 0.7267 - val_loss: 1.4399 - val_accuracy: 0.6187\n",
      "Epoch 9/10\n",
      "50000/50000 [==============================] - 40s 795us/sample - loss: 0.9617 - accuracy: 0.7483 - val_loss: 1.1863 - val_accuracy: 0.6914\n",
      "Epoch 10/10\n",
      "50000/50000 [==============================] - 40s 792us/sample - loss: 0.9007 - accuracy: 0.7616 - val_loss: 1.5880 - val_accuracy: 0.5618\n"
     ]
    }
   ],
   "source": [
    "model.compile(optimizer='adam',metrics=['accuracy'],loss='sparse_categorical_crossentropy')\n",
    "history=model.fit(train_x,train_y,epochs=10,batch_size=128,validation_data=(test_x,test_y))"
   ]
  },
  {
   "cell_type": "code",
   "execution_count": 8,
   "metadata": {},
   "outputs": [
    {
     "name": "stdout",
     "output_type": "stream",
     "text": [
      "WARNING:tensorflow:From C:\\Users\\Srujan\\Anaconda\\anaconda3\\lib\\site-packages\\tensorflow_core\\python\\ops\\resource_variable_ops.py:1781: calling BaseResourceVariable.__init__ (from tensorflow.python.ops.resource_variable_ops) with constraint is deprecated and will be removed in a future version.\n",
      "Instructions for updating:\n",
      "If using Keras pass *_constraint arguments to layers.\n",
      "INFO:tensorflow:Assets written to: cifar10.model\\assets\n"
     ]
    }
   ],
   "source": [
    "model.save('cifar10.model')"
   ]
  },
  {
   "cell_type": "code",
   "execution_count": 9,
   "metadata": {},
   "outputs": [],
   "source": [
    "test_loss,test_acc=model.evaluate(test_x,test_y,verbose=0)"
   ]
  },
  {
   "cell_type": "code",
   "execution_count": 10,
   "metadata": {},
   "outputs": [
    {
     "data": {
      "text/plain": [
       "'automobile'"
      ]
     },
     "execution_count": 10,
     "metadata": {},
     "output_type": "execute_result"
    }
   ],
   "source": [
    "model1=keras.models.load_model('cifar10.model')\n",
    "predictions=model1.predict(test_x)\n",
    "classes[np.argmax(predictions[1])]"
   ]
  },
  {
   "cell_type": "code",
   "execution_count": 11,
   "metadata": {},
   "outputs": [
    {
     "name": "stdout",
     "output_type": "stream",
     "text": [
      "615.5097374916077\n"
     ]
    }
   ],
   "source": [
    "end=time.time()\n",
    "print(end-start)"
   ]
  },
  {
   "cell_type": "code",
   "execution_count": null,
   "metadata": {},
   "outputs": [],
   "source": []
  }
 ],
 "metadata": {
  "kernelspec": {
   "display_name": "Python 3",
   "language": "python",
   "name": "python3"
  },
  "language_info": {
   "codemirror_mode": {
    "name": "ipython",
    "version": 3
   },
   "file_extension": ".py",
   "mimetype": "text/x-python",
   "name": "python",
   "nbconvert_exporter": "python",
   "pygments_lexer": "ipython3",
   "version": "3.7.6"
  }
 },
 "nbformat": 4,
 "nbformat_minor": 4
}
